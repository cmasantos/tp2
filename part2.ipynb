{
 "cells": [
  {
   "cell_type": "code",
   "execution_count": 5,
   "metadata": {},
   "outputs": [
    {
     "name": "stderr",
     "output_type": "stream",
     "text": [
      "c:\\Users\\cm-sa\\.conda\\envs\\tf2.3\\lib\\site-packages\\tqdm\\auto.py:22: TqdmWarning: IProgress not found. Please update jupyter and ipywidgets. See https://ipywidgets.readthedocs.io/en/stable/user_install.html\n",
      "  from .autonotebook import tqdm as notebook_tqdm\n",
      "WARNING:datasets.builder:Reusing dataset opus_books (C:\\Users\\cm-sa\\.cache\\huggingface\\datasets\\opus_books\\en-fr\\1.0.0\\e8f950a4f32dc39b7f9088908216cd2d7e21ac35f893d04d39eb594746af2daf)\n",
      "100%|██████████| 1/1 [00:00<00:00, 44.00it/s]\n"
     ]
    }
   ],
   "source": [
    "from datasets import load_dataset\n",
    "\n",
    "books = load_dataset(\"opus_books\", \"en-fr\")"
   ]
  },
  {
   "cell_type": "code",
   "execution_count": 6,
   "metadata": {},
   "outputs": [],
   "source": [
    "books = books[\"train\"].train_test_split(test_size=0.2)"
   ]
  },
  {
   "cell_type": "code",
   "execution_count": 7,
   "metadata": {},
   "outputs": [
    {
     "data": {
      "text/plain": [
       "{'id': '83257',\n",
       " 'translation': {'en': \"Carried away by his misery, dazed by surprise, Julien was weak enough to say to her, in the tenderest of tones and one that sprang from the heart: 'Then, you no longer love me?'\",\n",
       "  'fr': 'Emporté par son malheur, égaré par la surprise, Julien eut la faiblesse de lui dire, du ton le plus tendre et qui venait de l’âme : Ainsi, vous ne m’aimez plus ?'}}"
      ]
     },
     "execution_count": 7,
     "metadata": {},
     "output_type": "execute_result"
    }
   ],
   "source": [
    "books[\"train\"][0]"
   ]
  },
  {
   "cell_type": "code",
   "execution_count": 8,
   "metadata": {},
   "outputs": [
    {
     "name": "stderr",
     "output_type": "stream",
     "text": [
      "c:\\Users\\cm-sa\\.conda\\envs\\tf2.3\\lib\\site-packages\\transformers\\models\\t5\\tokenization_t5_fast.py:155: FutureWarning: This tokenizer was incorrectly instantiated with a model max length of 512 which will be corrected in Transformers v5.\n",
      "For now, this behavior is kept to avoid breaking backwards compatibility when padding/encoding with `truncation is True`.\n",
      "- Be aware that you SHOULD NOT rely on t5-small automatically truncating your input to 512 when padding/encoding.\n",
      "- If you want to encode/pad to sequences longer than 512 you can either instantiate this tokenizer with `model_max_length` or pass `max_length` when encoding/padding.\n",
      "- To avoid this warning, please instantiate this tokenizer with `model_max_length` set to your preferred value.\n",
      "  warnings.warn(\n"
     ]
    }
   ],
   "source": [
    "from transformers import AutoTokenizer\n",
    "\n",
    "tokenizer = AutoTokenizer.from_pretrained(\"t5-small\")"
   ]
  },
  {
   "cell_type": "code",
   "execution_count": 9,
   "metadata": {},
   "outputs": [],
   "source": [
    "source_lang = \"en\"\n",
    "target_lang = \"fr\"\n",
    "prefix = \"translate English to French: \"\n",
    "\n",
    "\n",
    "def preprocess_function(examples):\n",
    "    inputs = [prefix + example[source_lang] for example in examples[\"translation\"]]\n",
    "    targets = [example[target_lang] for example in examples[\"translation\"]]\n",
    "    model_inputs = tokenizer(inputs, max_length=128, truncation=True)\n",
    "\n",
    "    with tokenizer.as_target_tokenizer():\n",
    "        labels = tokenizer(targets, max_length=128, truncation=True)\n",
    "\n",
    "    model_inputs[\"labels\"] = labels[\"input_ids\"]\n",
    "    return model_inputs"
   ]
  },
  {
   "cell_type": "code",
   "execution_count": 10,
   "metadata": {},
   "outputs": [
    {
     "name": "stderr",
     "output_type": "stream",
     "text": [
      "100%|██████████| 102/102 [00:08<00:00, 12.05ba/s]\n",
      "100%|██████████| 26/26 [00:02<00:00, 11.43ba/s]\n"
     ]
    }
   ],
   "source": [
    "tokenized_books = books.map(preprocess_function, batched=True)"
   ]
  },
  {
   "cell_type": "code",
   "execution_count": 11,
   "metadata": {},
   "outputs": [],
   "source": [
    "from transformers import create_optimizer, AdamWeightDecay\n",
    "\n",
    "optimizer = AdamWeightDecay(learning_rate=2e-5, weight_decay_rate=0.01)"
   ]
  },
  {
   "cell_type": "code",
   "execution_count": 12,
   "metadata": {},
   "outputs": [
    {
     "name": "stderr",
     "output_type": "stream",
     "text": [
      "All model checkpoint layers were used when initializing TFT5ForConditionalGeneration.\n",
      "\n",
      "All the layers of TFT5ForConditionalGeneration were initialized from the model checkpoint at t5-small.\n",
      "If your task is similar to the task the model of the checkpoint was trained on, you can already use TFT5ForConditionalGeneration for predictions without further training.\n"
     ]
    }
   ],
   "source": [
    "from transformers import TFAutoModelForSeq2SeqLM\n",
    "\n",
    "model = TFAutoModelForSeq2SeqLM.from_pretrained(\"t5-small\")"
   ]
  },
  {
   "cell_type": "code",
   "execution_count": 17,
   "metadata": {},
   "outputs": [
    {
     "name": "stderr",
     "output_type": "stream",
     "text": [
      "No loss specified in compile() - the model's internal loss computation will be used as the loss. Don't panic - this is a common way to train TensorFlow models in Transformers! To disable this behaviour, please pass a loss argument, or explicitly pass `loss=None` if you do not want your model to compute a loss.\n"
     ]
    }
   ],
   "source": [
    "model.compile(optimizer=optimizer)"
   ]
  },
  {
   "cell_type": "code",
   "execution_count": 14,
   "metadata": {},
   "outputs": [],
   "source": [
    "from transformers import DataCollatorForSeq2Seq\n",
    "\n",
    "data_collator = DataCollatorForSeq2Seq(tokenizer=tokenizer, model=model, return_tensors=\"tf\")"
   ]
  },
  {
   "cell_type": "code",
   "execution_count": 15,
   "metadata": {},
   "outputs": [],
   "source": [
    "tf_train_set = tokenized_books[\"train\"].to_tf_dataset(\n",
    "    columns=[\"attention_mask\", \"input_ids\", \"labels\"],\n",
    "    shuffle=True,\n",
    "    batch_size=16,\n",
    "    collate_fn=data_collator,\n",
    ")\n",
    "\n",
    "tf_test_set = tokenized_books[\"test\"].to_tf_dataset(\n",
    "    columns=[\"attention_mask\", \"input_ids\", \"labels\"],\n",
    "    shuffle=False,\n",
    "    batch_size=16,\n",
    "    collate_fn=data_collator,\n",
    ")"
   ]
  },
  {
   "cell_type": "code",
   "execution_count": 18,
   "metadata": {},
   "outputs": [
    {
     "name": "stdout",
     "output_type": "stream",
     "text": [
      "Epoch 1/3\n"
     ]
    },
    {
     "ename": "ResourceExhaustedError",
     "evalue": "Graph execution error:\n\nDetected at node 'tft5_for_conditional_generation/decoder/block_._4/layer_._2/DenseReluDense/wi/Tensordot/MatMul' defined at (most recent call last):\n    File \"c:\\Users\\cm-sa\\.conda\\envs\\tf2.3\\lib\\runpy.py\", line 194, in _run_module_as_main\n      return _run_code(code, main_globals, None,\n    File \"c:\\Users\\cm-sa\\.conda\\envs\\tf2.3\\lib\\runpy.py\", line 87, in _run_code\n      exec(code, run_globals)\n    File \"c:\\Users\\cm-sa\\.conda\\envs\\tf2.3\\lib\\site-packages\\ipykernel_launcher.py\", line 16, in <module>\n      app.launch_new_instance()\n    File \"c:\\Users\\cm-sa\\.conda\\envs\\tf2.3\\lib\\site-packages\\traitlets\\config\\application.py\", line 846, in launch_instance\n      app.start()\n    File \"c:\\Users\\cm-sa\\.conda\\envs\\tf2.3\\lib\\site-packages\\ipykernel\\kernelapp.py\", line 677, in start\n      self.io_loop.start()\n    File \"c:\\Users\\cm-sa\\.conda\\envs\\tf2.3\\lib\\site-packages\\tornado\\platform\\asyncio.py\", line 199, in start\n      self.asyncio_loop.run_forever()\n    File \"c:\\Users\\cm-sa\\.conda\\envs\\tf2.3\\lib\\asyncio\\base_events.py\", line 570, in run_forever\n      self._run_once()\n    File \"c:\\Users\\cm-sa\\.conda\\envs\\tf2.3\\lib\\asyncio\\base_events.py\", line 1859, in _run_once\n      handle._run()\n    File \"c:\\Users\\cm-sa\\.conda\\envs\\tf2.3\\lib\\asyncio\\events.py\", line 81, in _run\n      self._context.run(self._callback, *self._args)\n    File \"c:\\Users\\cm-sa\\.conda\\envs\\tf2.3\\lib\\site-packages\\ipykernel\\kernelbase.py\", line 471, in dispatch_queue\n      await self.process_one()\n    File \"c:\\Users\\cm-sa\\.conda\\envs\\tf2.3\\lib\\site-packages\\ipykernel\\kernelbase.py\", line 460, in process_one\n      await dispatch(*args)\n    File \"c:\\Users\\cm-sa\\.conda\\envs\\tf2.3\\lib\\site-packages\\ipykernel\\kernelbase.py\", line 367, in dispatch_shell\n      await result\n    File \"c:\\Users\\cm-sa\\.conda\\envs\\tf2.3\\lib\\site-packages\\ipykernel\\kernelbase.py\", line 662, in execute_request\n      reply_content = await reply_content\n    File \"c:\\Users\\cm-sa\\.conda\\envs\\tf2.3\\lib\\site-packages\\ipykernel\\ipkernel.py\", line 360, in do_execute\n      res = shell.run_cell(code, store_history=store_history, silent=silent)\n    File \"c:\\Users\\cm-sa\\.conda\\envs\\tf2.3\\lib\\site-packages\\ipykernel\\zmqshell.py\", line 532, in run_cell\n      return super().run_cell(*args, **kwargs)\n    File \"c:\\Users\\cm-sa\\.conda\\envs\\tf2.3\\lib\\site-packages\\IPython\\core\\interactiveshell.py\", line 2854, in run_cell\n      result = self._run_cell(\n    File \"c:\\Users\\cm-sa\\.conda\\envs\\tf2.3\\lib\\site-packages\\IPython\\core\\interactiveshell.py\", line 2900, in _run_cell\n      return runner(coro)\n    File \"c:\\Users\\cm-sa\\.conda\\envs\\tf2.3\\lib\\site-packages\\IPython\\core\\async_helpers.py\", line 129, in _pseudo_sync_runner\n      coro.send(None)\n    File \"c:\\Users\\cm-sa\\.conda\\envs\\tf2.3\\lib\\site-packages\\IPython\\core\\interactiveshell.py\", line 3098, in run_cell_async\n      has_raised = await self.run_ast_nodes(code_ast.body, cell_name,\n    File \"c:\\Users\\cm-sa\\.conda\\envs\\tf2.3\\lib\\site-packages\\IPython\\core\\interactiveshell.py\", line 3301, in run_ast_nodes\n      if await self.run_code(code, result, async_=asy):\n    File \"c:\\Users\\cm-sa\\.conda\\envs\\tf2.3\\lib\\site-packages\\IPython\\core\\interactiveshell.py\", line 3361, in run_code\n      exec(code_obj, self.user_global_ns, self.user_ns)\n    File \"C:\\Users\\cm-sa\\AppData\\Local\\Temp\\ipykernel_22484\\1026193994.py\", line 1, in <cell line: 1>\n      model.fit(x=tf_train_set, validation_data=tf_test_set, epochs=3)\n    File \"c:\\Users\\cm-sa\\.conda\\envs\\tf2.3\\lib\\site-packages\\keras\\utils\\traceback_utils.py\", line 64, in error_handler\n      return fn(*args, **kwargs)\n    File \"c:\\Users\\cm-sa\\.conda\\envs\\tf2.3\\lib\\site-packages\\keras\\engine\\training.py\", line 1409, in fit\n      tmp_logs = self.train_function(iterator)\n    File \"c:\\Users\\cm-sa\\.conda\\envs\\tf2.3\\lib\\site-packages\\keras\\engine\\training.py\", line 1051, in train_function\n      return step_function(self, iterator)\n    File \"c:\\Users\\cm-sa\\.conda\\envs\\tf2.3\\lib\\site-packages\\keras\\engine\\training.py\", line 1040, in step_function\n      outputs = model.distribute_strategy.run(run_step, args=(data,))\n    File \"c:\\Users\\cm-sa\\.conda\\envs\\tf2.3\\lib\\site-packages\\keras\\engine\\training.py\", line 1030, in run_step\n      outputs = model.train_step(data)\n    File \"c:\\Users\\cm-sa\\.conda\\envs\\tf2.3\\lib\\site-packages\\transformers\\modeling_tf_utils.py\", line 996, in train_step\n      y_pred = self(x, training=True)\n    File \"c:\\Users\\cm-sa\\.conda\\envs\\tf2.3\\lib\\site-packages\\keras\\utils\\traceback_utils.py\", line 64, in error_handler\n      return fn(*args, **kwargs)\n    File \"c:\\Users\\cm-sa\\.conda\\envs\\tf2.3\\lib\\site-packages\\keras\\engine\\training.py\", line 490, in __call__\n      return super().__call__(*args, **kwargs)\n    File \"c:\\Users\\cm-sa\\.conda\\envs\\tf2.3\\lib\\site-packages\\keras\\utils\\traceback_utils.py\", line 64, in error_handler\n      return fn(*args, **kwargs)\n    File \"c:\\Users\\cm-sa\\.conda\\envs\\tf2.3\\lib\\site-packages\\keras\\engine\\base_layer.py\", line 1014, in __call__\n      outputs = call_fn(inputs, *args, **kwargs)\n    File \"c:\\Users\\cm-sa\\.conda\\envs\\tf2.3\\lib\\site-packages\\keras\\utils\\traceback_utils.py\", line 92, in error_handler\n      return fn(*args, **kwargs)\n    File \"c:\\Users\\cm-sa\\.conda\\envs\\tf2.3\\lib\\site-packages\\transformers\\modeling_tf_utils.py\", line 1323, in run_call_with_unpacked_inputs\n      new_num_tokens (`int`, *optional*):\n    File \"c:\\Users\\cm-sa\\.conda\\envs\\tf2.3\\lib\\site-packages\\transformers\\models\\t5\\modeling_tf_t5.py\", line 1386, in call\n      decoder_outputs = self.decoder(\n    File \"c:\\Users\\cm-sa\\.conda\\envs\\tf2.3\\lib\\site-packages\\keras\\utils\\traceback_utils.py\", line 64, in error_handler\n      return fn(*args, **kwargs)\n    File \"c:\\Users\\cm-sa\\.conda\\envs\\tf2.3\\lib\\site-packages\\keras\\engine\\base_layer.py\", line 1014, in __call__\n      outputs = call_fn(inputs, *args, **kwargs)\n    File \"c:\\Users\\cm-sa\\.conda\\envs\\tf2.3\\lib\\site-packages\\keras\\utils\\traceback_utils.py\", line 92, in error_handler\n      return fn(*args, **kwargs)\n    File \"c:\\Users\\cm-sa\\.conda\\envs\\tf2.3\\lib\\site-packages\\transformers\\modeling_tf_utils.py\", line 1323, in run_call_with_unpacked_inputs\n      new_num_tokens (`int`, *optional*):\n    File \"c:\\Users\\cm-sa\\.conda\\envs\\tf2.3\\lib\\site-packages\\transformers\\models\\t5\\modeling_tf_t5.py\", line 759, in call\n      for idx, (layer_module, past_key_value) in enumerate(zip(self.block, past_key_values)):\n    File \"c:\\Users\\cm-sa\\.conda\\envs\\tf2.3\\lib\\site-packages\\transformers\\models\\t5\\modeling_tf_t5.py\", line 762, in call\n      layer_outputs = layer_module(\n    File \"c:\\Users\\cm-sa\\.conda\\envs\\tf2.3\\lib\\site-packages\\keras\\utils\\traceback_utils.py\", line 64, in error_handler\n      return fn(*args, **kwargs)\n    File \"c:\\Users\\cm-sa\\.conda\\envs\\tf2.3\\lib\\site-packages\\keras\\engine\\base_layer.py\", line 1014, in __call__\n      outputs = call_fn(inputs, *args, **kwargs)\n    File \"c:\\Users\\cm-sa\\.conda\\envs\\tf2.3\\lib\\site-packages\\keras\\utils\\traceback_utils.py\", line 92, in error_handler\n      return fn(*args, **kwargs)\n    File \"c:\\Users\\cm-sa\\.conda\\envs\\tf2.3\\lib\\site-packages\\transformers\\models\\t5\\modeling_tf_t5.py\", line 601, in call\n      hidden_states = self.layer[-1](hidden_states, training=training)\n    File \"c:\\Users\\cm-sa\\.conda\\envs\\tf2.3\\lib\\site-packages\\keras\\utils\\traceback_utils.py\", line 64, in error_handler\n      return fn(*args, **kwargs)\n    File \"c:\\Users\\cm-sa\\.conda\\envs\\tf2.3\\lib\\site-packages\\keras\\engine\\base_layer.py\", line 1014, in __call__\n      outputs = call_fn(inputs, *args, **kwargs)\n    File \"c:\\Users\\cm-sa\\.conda\\envs\\tf2.3\\lib\\site-packages\\keras\\utils\\traceback_utils.py\", line 92, in error_handler\n      return fn(*args, **kwargs)\n    File \"c:\\Users\\cm-sa\\.conda\\envs\\tf2.3\\lib\\site-packages\\transformers\\models\\t5\\modeling_tf_t5.py\", line 168, in call\n      dense_output = self.DenseReluDense(normed_hidden_states, training=training)\n    File \"c:\\Users\\cm-sa\\.conda\\envs\\tf2.3\\lib\\site-packages\\keras\\utils\\traceback_utils.py\", line 64, in error_handler\n      return fn(*args, **kwargs)\n    File \"c:\\Users\\cm-sa\\.conda\\envs\\tf2.3\\lib\\site-packages\\keras\\engine\\base_layer.py\", line 1014, in __call__\n      outputs = call_fn(inputs, *args, **kwargs)\n    File \"c:\\Users\\cm-sa\\.conda\\envs\\tf2.3\\lib\\site-packages\\keras\\utils\\traceback_utils.py\", line 92, in error_handler\n      return fn(*args, **kwargs)\n    File \"c:\\Users\\cm-sa\\.conda\\envs\\tf2.3\\lib\\site-packages\\transformers\\models\\t5\\modeling_tf_t5.py\", line 115, in call\n      hidden_states = self.wi(hidden_states)\n    File \"c:\\Users\\cm-sa\\.conda\\envs\\tf2.3\\lib\\site-packages\\keras\\utils\\traceback_utils.py\", line 64, in error_handler\n      return fn(*args, **kwargs)\n    File \"c:\\Users\\cm-sa\\.conda\\envs\\tf2.3\\lib\\site-packages\\keras\\engine\\base_layer.py\", line 1014, in __call__\n      outputs = call_fn(inputs, *args, **kwargs)\n    File \"c:\\Users\\cm-sa\\.conda\\envs\\tf2.3\\lib\\site-packages\\keras\\utils\\traceback_utils.py\", line 92, in error_handler\n      return fn(*args, **kwargs)\n    File \"c:\\Users\\cm-sa\\.conda\\envs\\tf2.3\\lib\\site-packages\\keras\\layers\\core\\dense.py\", line 224, in call\n      outputs = tf.tensordot(inputs, self.kernel, [[rank - 1], [0]])\nNode: 'tft5_for_conditional_generation/decoder/block_._4/layer_._2/DenseReluDense/wi/Tensordot/MatMul'\nOOM when allocating tensor with shape[2048,2048] and type float on /job:localhost/replica:0/task:0/device:GPU:0 by allocator GPU_0_bfc\n\t [[{{node tft5_for_conditional_generation/decoder/block_._4/layer_._2/DenseReluDense/wi/Tensordot/MatMul}}]]\nHint: If you want to see a list of allocated tensors when OOM happens, add report_tensor_allocations_upon_oom to RunOptions for current allocation info. This isn't available when running in Eager mode.\n [Op:__inference_train_function_106319]",
     "output_type": "error",
     "traceback": [
      "\u001b[1;31m---------------------------------------------------------------------------\u001b[0m",
      "\u001b[1;31mResourceExhaustedError\u001b[0m                    Traceback (most recent call last)",
      "\u001b[1;32mc:\\Users\\cm-sa\\Documents\\mestrado\\1_ano\\Análise de Dados\\tp2\\part2.ipynb Cell 12'\u001b[0m in \u001b[0;36m<cell line: 1>\u001b[1;34m()\u001b[0m\n\u001b[1;32m----> <a href='vscode-notebook-cell:/c%3A/Users/cm-sa/Documents/mestrado/1_ano/An%C3%A1lise%20de%20Dados/tp2/part2.ipynb#ch0000052?line=0'>1</a>\u001b[0m model\u001b[39m.\u001b[39;49mfit(x\u001b[39m=\u001b[39;49mtf_train_set, validation_data\u001b[39m=\u001b[39;49mtf_test_set, epochs\u001b[39m=\u001b[39;49m\u001b[39m3\u001b[39;49m)\n",
      "File \u001b[1;32mc:\\Users\\cm-sa\\.conda\\envs\\tf2.3\\lib\\site-packages\\keras\\utils\\traceback_utils.py:67\u001b[0m, in \u001b[0;36mfilter_traceback.<locals>.error_handler\u001b[1;34m(*args, **kwargs)\u001b[0m\n\u001b[0;32m     <a href='file:///c%3A/Users/cm-sa/.conda/envs/tf2.3/lib/site-packages/keras/utils/traceback_utils.py?line=64'>65</a>\u001b[0m \u001b[39mexcept\u001b[39;00m \u001b[39mException\u001b[39;00m \u001b[39mas\u001b[39;00m e:  \u001b[39m# pylint: disable=broad-except\u001b[39;00m\n\u001b[0;32m     <a href='file:///c%3A/Users/cm-sa/.conda/envs/tf2.3/lib/site-packages/keras/utils/traceback_utils.py?line=65'>66</a>\u001b[0m   filtered_tb \u001b[39m=\u001b[39m _process_traceback_frames(e\u001b[39m.\u001b[39m__traceback__)\n\u001b[1;32m---> <a href='file:///c%3A/Users/cm-sa/.conda/envs/tf2.3/lib/site-packages/keras/utils/traceback_utils.py?line=66'>67</a>\u001b[0m   \u001b[39mraise\u001b[39;00m e\u001b[39m.\u001b[39mwith_traceback(filtered_tb) \u001b[39mfrom\u001b[39;00m \u001b[39mNone\u001b[39m\n\u001b[0;32m     <a href='file:///c%3A/Users/cm-sa/.conda/envs/tf2.3/lib/site-packages/keras/utils/traceback_utils.py?line=67'>68</a>\u001b[0m \u001b[39mfinally\u001b[39;00m:\n\u001b[0;32m     <a href='file:///c%3A/Users/cm-sa/.conda/envs/tf2.3/lib/site-packages/keras/utils/traceback_utils.py?line=68'>69</a>\u001b[0m   \u001b[39mdel\u001b[39;00m filtered_tb\n",
      "File \u001b[1;32mc:\\Users\\cm-sa\\.conda\\envs\\tf2.3\\lib\\site-packages\\tensorflow\\python\\eager\\execute.py:54\u001b[0m, in \u001b[0;36mquick_execute\u001b[1;34m(op_name, num_outputs, inputs, attrs, ctx, name)\u001b[0m\n\u001b[0;32m     <a href='file:///c%3A/Users/cm-sa/.conda/envs/tf2.3/lib/site-packages/tensorflow/python/eager/execute.py?line=51'>52</a>\u001b[0m \u001b[39mtry\u001b[39;00m:\n\u001b[0;32m     <a href='file:///c%3A/Users/cm-sa/.conda/envs/tf2.3/lib/site-packages/tensorflow/python/eager/execute.py?line=52'>53</a>\u001b[0m   ctx\u001b[39m.\u001b[39mensure_initialized()\n\u001b[1;32m---> <a href='file:///c%3A/Users/cm-sa/.conda/envs/tf2.3/lib/site-packages/tensorflow/python/eager/execute.py?line=53'>54</a>\u001b[0m   tensors \u001b[39m=\u001b[39m pywrap_tfe\u001b[39m.\u001b[39mTFE_Py_Execute(ctx\u001b[39m.\u001b[39m_handle, device_name, op_name,\n\u001b[0;32m     <a href='file:///c%3A/Users/cm-sa/.conda/envs/tf2.3/lib/site-packages/tensorflow/python/eager/execute.py?line=54'>55</a>\u001b[0m                                       inputs, attrs, num_outputs)\n\u001b[0;32m     <a href='file:///c%3A/Users/cm-sa/.conda/envs/tf2.3/lib/site-packages/tensorflow/python/eager/execute.py?line=55'>56</a>\u001b[0m \u001b[39mexcept\u001b[39;00m core\u001b[39m.\u001b[39m_NotOkStatusException \u001b[39mas\u001b[39;00m e:\n\u001b[0;32m     <a href='file:///c%3A/Users/cm-sa/.conda/envs/tf2.3/lib/site-packages/tensorflow/python/eager/execute.py?line=56'>57</a>\u001b[0m   \u001b[39mif\u001b[39;00m name \u001b[39mis\u001b[39;00m \u001b[39mnot\u001b[39;00m \u001b[39mNone\u001b[39;00m:\n",
      "\u001b[1;31mResourceExhaustedError\u001b[0m: Graph execution error:\n\nDetected at node 'tft5_for_conditional_generation/decoder/block_._4/layer_._2/DenseReluDense/wi/Tensordot/MatMul' defined at (most recent call last):\n    File \"c:\\Users\\cm-sa\\.conda\\envs\\tf2.3\\lib\\runpy.py\", line 194, in _run_module_as_main\n      return _run_code(code, main_globals, None,\n    File \"c:\\Users\\cm-sa\\.conda\\envs\\tf2.3\\lib\\runpy.py\", line 87, in _run_code\n      exec(code, run_globals)\n    File \"c:\\Users\\cm-sa\\.conda\\envs\\tf2.3\\lib\\site-packages\\ipykernel_launcher.py\", line 16, in <module>\n      app.launch_new_instance()\n    File \"c:\\Users\\cm-sa\\.conda\\envs\\tf2.3\\lib\\site-packages\\traitlets\\config\\application.py\", line 846, in launch_instance\n      app.start()\n    File \"c:\\Users\\cm-sa\\.conda\\envs\\tf2.3\\lib\\site-packages\\ipykernel\\kernelapp.py\", line 677, in start\n      self.io_loop.start()\n    File \"c:\\Users\\cm-sa\\.conda\\envs\\tf2.3\\lib\\site-packages\\tornado\\platform\\asyncio.py\", line 199, in start\n      self.asyncio_loop.run_forever()\n    File \"c:\\Users\\cm-sa\\.conda\\envs\\tf2.3\\lib\\asyncio\\base_events.py\", line 570, in run_forever\n      self._run_once()\n    File \"c:\\Users\\cm-sa\\.conda\\envs\\tf2.3\\lib\\asyncio\\base_events.py\", line 1859, in _run_once\n      handle._run()\n    File \"c:\\Users\\cm-sa\\.conda\\envs\\tf2.3\\lib\\asyncio\\events.py\", line 81, in _run\n      self._context.run(self._callback, *self._args)\n    File \"c:\\Users\\cm-sa\\.conda\\envs\\tf2.3\\lib\\site-packages\\ipykernel\\kernelbase.py\", line 471, in dispatch_queue\n      await self.process_one()\n    File \"c:\\Users\\cm-sa\\.conda\\envs\\tf2.3\\lib\\site-packages\\ipykernel\\kernelbase.py\", line 460, in process_one\n      await dispatch(*args)\n    File \"c:\\Users\\cm-sa\\.conda\\envs\\tf2.3\\lib\\site-packages\\ipykernel\\kernelbase.py\", line 367, in dispatch_shell\n      await result\n    File \"c:\\Users\\cm-sa\\.conda\\envs\\tf2.3\\lib\\site-packages\\ipykernel\\kernelbase.py\", line 662, in execute_request\n      reply_content = await reply_content\n    File \"c:\\Users\\cm-sa\\.conda\\envs\\tf2.3\\lib\\site-packages\\ipykernel\\ipkernel.py\", line 360, in do_execute\n      res = shell.run_cell(code, store_history=store_history, silent=silent)\n    File \"c:\\Users\\cm-sa\\.conda\\envs\\tf2.3\\lib\\site-packages\\ipykernel\\zmqshell.py\", line 532, in run_cell\n      return super().run_cell(*args, **kwargs)\n    File \"c:\\Users\\cm-sa\\.conda\\envs\\tf2.3\\lib\\site-packages\\IPython\\core\\interactiveshell.py\", line 2854, in run_cell\n      result = self._run_cell(\n    File \"c:\\Users\\cm-sa\\.conda\\envs\\tf2.3\\lib\\site-packages\\IPython\\core\\interactiveshell.py\", line 2900, in _run_cell\n      return runner(coro)\n    File \"c:\\Users\\cm-sa\\.conda\\envs\\tf2.3\\lib\\site-packages\\IPython\\core\\async_helpers.py\", line 129, in _pseudo_sync_runner\n      coro.send(None)\n    File \"c:\\Users\\cm-sa\\.conda\\envs\\tf2.3\\lib\\site-packages\\IPython\\core\\interactiveshell.py\", line 3098, in run_cell_async\n      has_raised = await self.run_ast_nodes(code_ast.body, cell_name,\n    File \"c:\\Users\\cm-sa\\.conda\\envs\\tf2.3\\lib\\site-packages\\IPython\\core\\interactiveshell.py\", line 3301, in run_ast_nodes\n      if await self.run_code(code, result, async_=asy):\n    File \"c:\\Users\\cm-sa\\.conda\\envs\\tf2.3\\lib\\site-packages\\IPython\\core\\interactiveshell.py\", line 3361, in run_code\n      exec(code_obj, self.user_global_ns, self.user_ns)\n    File \"C:\\Users\\cm-sa\\AppData\\Local\\Temp\\ipykernel_22484\\1026193994.py\", line 1, in <cell line: 1>\n      model.fit(x=tf_train_set, validation_data=tf_test_set, epochs=3)\n    File \"c:\\Users\\cm-sa\\.conda\\envs\\tf2.3\\lib\\site-packages\\keras\\utils\\traceback_utils.py\", line 64, in error_handler\n      return fn(*args, **kwargs)\n    File \"c:\\Users\\cm-sa\\.conda\\envs\\tf2.3\\lib\\site-packages\\keras\\engine\\training.py\", line 1409, in fit\n      tmp_logs = self.train_function(iterator)\n    File \"c:\\Users\\cm-sa\\.conda\\envs\\tf2.3\\lib\\site-packages\\keras\\engine\\training.py\", line 1051, in train_function\n      return step_function(self, iterator)\n    File \"c:\\Users\\cm-sa\\.conda\\envs\\tf2.3\\lib\\site-packages\\keras\\engine\\training.py\", line 1040, in step_function\n      outputs = model.distribute_strategy.run(run_step, args=(data,))\n    File \"c:\\Users\\cm-sa\\.conda\\envs\\tf2.3\\lib\\site-packages\\keras\\engine\\training.py\", line 1030, in run_step\n      outputs = model.train_step(data)\n    File \"c:\\Users\\cm-sa\\.conda\\envs\\tf2.3\\lib\\site-packages\\transformers\\modeling_tf_utils.py\", line 996, in train_step\n      y_pred = self(x, training=True)\n    File \"c:\\Users\\cm-sa\\.conda\\envs\\tf2.3\\lib\\site-packages\\keras\\utils\\traceback_utils.py\", line 64, in error_handler\n      return fn(*args, **kwargs)\n    File \"c:\\Users\\cm-sa\\.conda\\envs\\tf2.3\\lib\\site-packages\\keras\\engine\\training.py\", line 490, in __call__\n      return super().__call__(*args, **kwargs)\n    File \"c:\\Users\\cm-sa\\.conda\\envs\\tf2.3\\lib\\site-packages\\keras\\utils\\traceback_utils.py\", line 64, in error_handler\n      return fn(*args, **kwargs)\n    File \"c:\\Users\\cm-sa\\.conda\\envs\\tf2.3\\lib\\site-packages\\keras\\engine\\base_layer.py\", line 1014, in __call__\n      outputs = call_fn(inputs, *args, **kwargs)\n    File \"c:\\Users\\cm-sa\\.conda\\envs\\tf2.3\\lib\\site-packages\\keras\\utils\\traceback_utils.py\", line 92, in error_handler\n      return fn(*args, **kwargs)\n    File \"c:\\Users\\cm-sa\\.conda\\envs\\tf2.3\\lib\\site-packages\\transformers\\modeling_tf_utils.py\", line 1323, in run_call_with_unpacked_inputs\n      new_num_tokens (`int`, *optional*):\n    File \"c:\\Users\\cm-sa\\.conda\\envs\\tf2.3\\lib\\site-packages\\transformers\\models\\t5\\modeling_tf_t5.py\", line 1386, in call\n      decoder_outputs = self.decoder(\n    File \"c:\\Users\\cm-sa\\.conda\\envs\\tf2.3\\lib\\site-packages\\keras\\utils\\traceback_utils.py\", line 64, in error_handler\n      return fn(*args, **kwargs)\n    File \"c:\\Users\\cm-sa\\.conda\\envs\\tf2.3\\lib\\site-packages\\keras\\engine\\base_layer.py\", line 1014, in __call__\n      outputs = call_fn(inputs, *args, **kwargs)\n    File \"c:\\Users\\cm-sa\\.conda\\envs\\tf2.3\\lib\\site-packages\\keras\\utils\\traceback_utils.py\", line 92, in error_handler\n      return fn(*args, **kwargs)\n    File \"c:\\Users\\cm-sa\\.conda\\envs\\tf2.3\\lib\\site-packages\\transformers\\modeling_tf_utils.py\", line 1323, in run_call_with_unpacked_inputs\n      new_num_tokens (`int`, *optional*):\n    File \"c:\\Users\\cm-sa\\.conda\\envs\\tf2.3\\lib\\site-packages\\transformers\\models\\t5\\modeling_tf_t5.py\", line 759, in call\n      for idx, (layer_module, past_key_value) in enumerate(zip(self.block, past_key_values)):\n    File \"c:\\Users\\cm-sa\\.conda\\envs\\tf2.3\\lib\\site-packages\\transformers\\models\\t5\\modeling_tf_t5.py\", line 762, in call\n      layer_outputs = layer_module(\n    File \"c:\\Users\\cm-sa\\.conda\\envs\\tf2.3\\lib\\site-packages\\keras\\utils\\traceback_utils.py\", line 64, in error_handler\n      return fn(*args, **kwargs)\n    File \"c:\\Users\\cm-sa\\.conda\\envs\\tf2.3\\lib\\site-packages\\keras\\engine\\base_layer.py\", line 1014, in __call__\n      outputs = call_fn(inputs, *args, **kwargs)\n    File \"c:\\Users\\cm-sa\\.conda\\envs\\tf2.3\\lib\\site-packages\\keras\\utils\\traceback_utils.py\", line 92, in error_handler\n      return fn(*args, **kwargs)\n    File \"c:\\Users\\cm-sa\\.conda\\envs\\tf2.3\\lib\\site-packages\\transformers\\models\\t5\\modeling_tf_t5.py\", line 601, in call\n      hidden_states = self.layer[-1](hidden_states, training=training)\n    File \"c:\\Users\\cm-sa\\.conda\\envs\\tf2.3\\lib\\site-packages\\keras\\utils\\traceback_utils.py\", line 64, in error_handler\n      return fn(*args, **kwargs)\n    File \"c:\\Users\\cm-sa\\.conda\\envs\\tf2.3\\lib\\site-packages\\keras\\engine\\base_layer.py\", line 1014, in __call__\n      outputs = call_fn(inputs, *args, **kwargs)\n    File \"c:\\Users\\cm-sa\\.conda\\envs\\tf2.3\\lib\\site-packages\\keras\\utils\\traceback_utils.py\", line 92, in error_handler\n      return fn(*args, **kwargs)\n    File \"c:\\Users\\cm-sa\\.conda\\envs\\tf2.3\\lib\\site-packages\\transformers\\models\\t5\\modeling_tf_t5.py\", line 168, in call\n      dense_output = self.DenseReluDense(normed_hidden_states, training=training)\n    File \"c:\\Users\\cm-sa\\.conda\\envs\\tf2.3\\lib\\site-packages\\keras\\utils\\traceback_utils.py\", line 64, in error_handler\n      return fn(*args, **kwargs)\n    File \"c:\\Users\\cm-sa\\.conda\\envs\\tf2.3\\lib\\site-packages\\keras\\engine\\base_layer.py\", line 1014, in __call__\n      outputs = call_fn(inputs, *args, **kwargs)\n    File \"c:\\Users\\cm-sa\\.conda\\envs\\tf2.3\\lib\\site-packages\\keras\\utils\\traceback_utils.py\", line 92, in error_handler\n      return fn(*args, **kwargs)\n    File \"c:\\Users\\cm-sa\\.conda\\envs\\tf2.3\\lib\\site-packages\\transformers\\models\\t5\\modeling_tf_t5.py\", line 115, in call\n      hidden_states = self.wi(hidden_states)\n    File \"c:\\Users\\cm-sa\\.conda\\envs\\tf2.3\\lib\\site-packages\\keras\\utils\\traceback_utils.py\", line 64, in error_handler\n      return fn(*args, **kwargs)\n    File \"c:\\Users\\cm-sa\\.conda\\envs\\tf2.3\\lib\\site-packages\\keras\\engine\\base_layer.py\", line 1014, in __call__\n      outputs = call_fn(inputs, *args, **kwargs)\n    File \"c:\\Users\\cm-sa\\.conda\\envs\\tf2.3\\lib\\site-packages\\keras\\utils\\traceback_utils.py\", line 92, in error_handler\n      return fn(*args, **kwargs)\n    File \"c:\\Users\\cm-sa\\.conda\\envs\\tf2.3\\lib\\site-packages\\keras\\layers\\core\\dense.py\", line 224, in call\n      outputs = tf.tensordot(inputs, self.kernel, [[rank - 1], [0]])\nNode: 'tft5_for_conditional_generation/decoder/block_._4/layer_._2/DenseReluDense/wi/Tensordot/MatMul'\nOOM when allocating tensor with shape[2048,2048] and type float on /job:localhost/replica:0/task:0/device:GPU:0 by allocator GPU_0_bfc\n\t [[{{node tft5_for_conditional_generation/decoder/block_._4/layer_._2/DenseReluDense/wi/Tensordot/MatMul}}]]\nHint: If you want to see a list of allocated tensors when OOM happens, add report_tensor_allocations_upon_oom to RunOptions for current allocation info. This isn't available when running in Eager mode.\n [Op:__inference_train_function_106319]"
     ]
    }
   ],
   "source": [
    "model.fit(x=tf_train_set, validation_data=tf_test_set, epochs=3)"
   ]
  }
 ],
 "metadata": {
  "kernelspec": {
   "display_name": "Python 3.8.13 ('tf2.3')",
   "language": "python",
   "name": "python3"
  },
  "language_info": {
   "codemirror_mode": {
    "name": "ipython",
    "version": 3
   },
   "file_extension": ".py",
   "mimetype": "text/x-python",
   "name": "python",
   "nbconvert_exporter": "python",
   "pygments_lexer": "ipython3",
   "version": "3.8.13"
  },
  "orig_nbformat": 4,
  "vscode": {
   "interpreter": {
    "hash": "7ebed7046db1d40e99084a5c0a389b4579d72f38179637104952197397ec0747"
   }
  }
 },
 "nbformat": 4,
 "nbformat_minor": 2
}
