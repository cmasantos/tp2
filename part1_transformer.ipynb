{
  "cells": [
    {
      "cell_type": "markdown",
      "metadata": {
        "id": "bFydYD8rLnnE"
      },
      "source": [
        "Machine Translation - English to German"
      ]
    },
    {
      "cell_type": "code",
      "execution_count": 114,
      "metadata": {
        "id": "DPQTZko6LMsF"
      },
      "outputs": [
        {
          "name": "stdout",
          "output_type": "stream",
          "text": [
            "2.9.1\n"
          ]
        }
      ],
      "source": [
        "# Python ≥3.5 is required\n",
        "import sys\n",
        "assert sys.version_info >= (3, 5)\n",
        "\n",
        "# Scikit-Learn ≥0.20 is required\n",
        "import sklearn\n",
        "assert sklearn.__version__ >= \"0.20\"\n",
        "\n",
        "try:\n",
        "    # %tensorflow_version only exists in Colab.\n",
        "    %tensorflow_version 2.x\n",
        "except Exception:\n",
        "    pass\n",
        "# TensorFlow ≥2.0 is required\n",
        "import tensorflow as tf\n",
        "assert tf.__version__ >= \"2.0\"\n",
        "print(tf.__version__)\n",
        "\n",
        "# Common imports\n",
        "import numpy as np\n",
        "import os\n",
        "\n",
        "# to make this notebook's output stable across runs\n",
        "np.random.seed(42)\n",
        "\n",
        "# To plot pretty figures\n",
        "%matplotlib inline\n",
        "import matplotlib as mpl\n",
        "import matplotlib.pyplot as plt\n",
        "mpl.rc('axes', labelsize=14)\n",
        "mpl.rc('xtick', labelsize=12)\n",
        "mpl.rc('ytick', labelsize=12)\n",
        "\n",
        "\n",
        "# Ignore useless warnings (see SciPy issue #5998)\n",
        "import warnings\n",
        "warnings.filterwarnings(action=\"ignore\", message=\"^internal gelsd\")\n",
        "\n",
        "\n",
        "import random\n",
        "\n",
        "import tensorflow as tf\n",
        "import string\n",
        "import re \n",
        "from keras import layers\n",
        "import io"
      ]
    },
    {
      "cell_type": "code",
      "execution_count": 115,
      "metadata": {},
      "outputs": [],
      "source": [
        "#input_text_file_path = \"./preprocessed_dataset_for_dev.txt\"\n",
        "input_text_file_path = \"./preprocessed_dataset_for_train.txt\""
      ]
    },
    {
      "cell_type": "code",
      "execution_count": 116,
      "metadata": {
        "id": "xYhzQXWdMJjs"
      },
      "outputs": [
        {
          "name": "stdout",
          "output_type": "stream",
          "text": [
            "('the bookmarked feed shows the posts that you have bookmarked. the bookmarked feed offers easy access to useful posts.', '[start] im feed mit lesezeichen werden alle post angezeigt, die sie mit einem lesezeichen versehen haben. der feed \"mit lesezeichen\" bietet ihnen schnellen zugriff auf nützliche posts. [end]')\n"
          ]
        }
      ],
      "source": [
        "with open(input_text_file_path, encoding='utf-8') as f:\n",
        "    lines = f.read().split(\"\\n\")[:-1]\n",
        "\n",
        "text_pairs = []\n",
        "\n",
        "for line in lines:\n",
        "    english, port = line.split(\"\\t\")\n",
        "    port = \"[start] \" + port + \" [end]\"\n",
        "    #if(random.random() > 0.25):\n",
        "    text_pairs.append((english, port))\n",
        "\n",
        "print(text_pairs[-1])"
      ]
    },
    {
      "cell_type": "code",
      "execution_count": 117,
      "metadata": {
        "id": "Terv66lhM4X5"
      },
      "outputs": [
        {
          "name": "stdout",
          "output_type": "stream",
          "text": [
            "len(text_pairs) -> 100611\n",
            "15% for validation -> 15091\n",
            "70% for train -> 70429\n"
          ]
        }
      ],
      "source": [
        "random.shuffle(text_pairs) #1. mistura todos os pairs\n",
        "\n",
        "print(\"len(text_pairs) ->\", len(text_pairs))\n",
        "\n",
        "num_val_samples = int(0.15 * len(text_pairs))\n",
        "print(\"15% for validation ->\", num_val_samples)\n",
        "\n",
        "num_train_samples = len(text_pairs) - 2 * num_val_samples\n",
        "print(\"70% for train ->\", num_train_samples)\n",
        "\n",
        "train_pairs = text_pairs[:num_train_samples] #escolhe os primeiros 70% (shuffled) para treino\n",
        "val_pairs = text_pairs[num_train_samples:num_train_samples + num_val_samples] #mais 15% para validação\n",
        "test_pairs = text_pairs[num_train_samples + num_val_samples:] #mais 15 para teste"
      ]
    },
    {
      "cell_type": "code",
      "execution_count": 118,
      "metadata": {
        "id": "X8pce-80NB_u"
      },
      "outputs": [
        {
          "name": "stdout",
          "output_type": "stream",
          "text": [
            "treino:  70429\n",
            "validação:  15091\n",
            "teste:  15091\n"
          ]
        }
      ],
      "source": [
        "print(\"treino: \",    len(train_pairs))\n",
        "print(\"validação: \", len(val_pairs  ))\n",
        "print(\"teste: \",     len(test_pairs ))"
      ]
    },
    {
      "cell_type": "code",
      "execution_count": 119,
      "metadata": {
        "id": "hX1CnrGxPax4"
      },
      "outputs": [
        {
          "name": "stdout",
          "output_type": "stream",
          "text": [
            "('english (jamaica)', '[start] englisch (jamaika) [end]')\n",
            "english (jamaica)\n",
            "to send the message, click send or press enter on your keyboard.\n"
          ]
        }
      ],
      "source": [
        "strip_chars = string.punctuation # !\"#$%&'()*+,-./:;<=>?@[\\]^_`{|}~\n",
        "\n",
        "strip_chars = strip_chars.replace(\"[\", \"\") # para não perder o [start] e [end]\n",
        "strip_chars = strip_chars.replace(\"]\", \"\") #\n",
        "\n",
        "def custom_standardization(input_string):\n",
        "    lowercase = tf.strings.lower(input_string)\n",
        "    return tf.strings.regex_replace(\n",
        "        lowercase, f\"[{re.escape(strip_chars)}]\", \"\")\n",
        "\n",
        "vocab_size = 20000    # O modelo apneas vai conhecer 15000 palavras\n",
        "sequence_length = 20  # cada frase vai ter 20 palavrasg\n",
        "\n",
        "\n",
        "source_vectorization = layers.TextVectorization(\n",
        "    max_tokens=vocab_size,\n",
        "    output_mode=\"int\",\n",
        "    output_sequence_length=sequence_length\n",
        ")\n",
        "\n",
        "target_vectorization = layers.TextVectorization(\n",
        "    max_tokens=vocab_size,\n",
        "    output_mode=\"int\",\n",
        "    output_sequence_length=sequence_length + 1,\n",
        "    standardize=custom_standardization,\n",
        ")\n",
        "\n",
        "print(train_pairs[0])\n",
        "train_english_texts = [pair[0] for pair in train_pairs] \n",
        "print(train_english_texts[0])\n",
        "\n",
        "train_pt_texts = [pair[1] for pair in train_pairs] \n",
        "print(train_english_texts[1])\n",
        "\n",
        "source_vectorization.adapt(train_english_texts)\n",
        "#source_vectorization.adapt([pair[0] for pair in text_pairs] )\n",
        "target_vectorization.adapt(train_pt_texts)"
      ]
    },
    {
      "cell_type": "code",
      "execution_count": 120,
      "metadata": {
        "id": "xY0Eqvx_JRgH"
      },
      "outputs": [
        {
          "data": {
            "text/plain": [
              "['', '[UNK]', 'the', 'to', 'a', 'and', 'in', 'you', 'for', 'your']"
            ]
          },
          "execution_count": 120,
          "metadata": {},
          "output_type": "execute_result"
        }
      ],
      "source": [
        "source_vectorization.get_vocabulary()[0:10]"
      ]
    },
    {
      "cell_type": "code",
      "execution_count": 121,
      "metadata": {
        "id": "9EfEL9D9Jr2_"
      },
      "outputs": [
        {
          "data": {
            "text/plain": [
              "['', '[UNK]', '[start]', '[end]', 'sie', 'die', 'der', 'und', 'in', 'für']"
            ]
          },
          "execution_count": 121,
          "metadata": {},
          "output_type": "execute_result"
        }
      ],
      "source": [
        "target_vectorization.get_vocabulary()[0:10]"
      ]
    },
    {
      "cell_type": "code",
      "execution_count": 122,
      "metadata": {},
      "outputs": [
        {
          "name": "stdout",
          "output_type": "stream",
          "text": [
            "EN embeddings has 400000 word vectors\n"
          ]
        }
      ],
      "source": [
        "glove50_file_path = \"./glove.6B.50d.embedding\"\n",
        "\n",
        "embeddings_index = {}\n",
        "\n",
        "with open(glove50_file_path, encoding=\"utf-8\") as gloveFile:\n",
        "    for line in gloveFile:\n",
        "        word, coefsAsString = line.split(maxsplit=1)\n",
        "        coefs = np.fromstring(coefsAsString, \"f\", sep=\" \")\n",
        "        embeddings_index[word] = coefs\n",
        "\n",
        "print(f\"EN embeddings has {len(embeddings_index)} word vectors\")\n"
      ]
    },
    {
      "cell_type": "code",
      "execution_count": 123,
      "metadata": {},
      "outputs": [
        {
          "name": "stdout",
          "output_type": "stream",
          "text": [
            "embedding_matrix size: (20000, 50)\n"
          ]
        }
      ],
      "source": [
        "en_embeddings_dim = 50\n",
        "\n",
        "en_vocabulary = source_vectorization.get_vocabulary() \n",
        "\n",
        "word_index = dict(zip(en_vocabulary, range(len(en_vocabulary)))) # setting an \"id\" to head word \n",
        "\n",
        "embedding_matrix = np.zeros((vocab_size, en_embeddings_dim)) \n",
        "print(\"embedding_matrix size:\", embedding_matrix.shape)\n",
        "\n",
        "for word, i in word_index.items():\n",
        "    if(i < vocab_size):\n",
        "        embedding_vector = embeddings_index.get(word)\n",
        "\n",
        "    if(embedding_vector is not None):\n",
        "        embedding_matrix[i] = embedding_vector\n",
        "\n",
        "#print(embedding_matrix[3:5])\n",
        "\n",
        "en_embedding_layer = layers.Embedding(vocab_size, en_embeddings_dim, embeddings_initializer=tf.keras.initializers.Constant(embedding_matrix))"
      ]
    },
    {
      "cell_type": "code",
      "execution_count": 124,
      "metadata": {
        "id": "yjNBmkmaQE1K"
      },
      "outputs": [],
      "source": [
        "batch_size = 32\n",
        "\n",
        "def format_dataset(eng, pt):\n",
        "    eng = source_vectorization(eng)\n",
        "    pt = target_vectorization(pt)\n",
        "    return ({\n",
        "        \"english\": eng,\n",
        "        \"portuguese\": pt[:, :-1],\n",
        "    }, pt[:, 1:])\n",
        "\n",
        "def make_dataset(pairs):\n",
        "    eng_texts, pt_texts = zip(*pairs)\n",
        "    eng_texts = list(eng_texts)\n",
        "    pt_texts = list(pt_texts)\n",
        "    dataset = tf.data.Dataset.from_tensor_slices((eng_texts, pt_texts))\n",
        "    dataset = dataset.batch(batch_size)\n",
        "    dataset = dataset.map(format_dataset, num_parallel_calls=4)\n",
        "    return dataset.shuffle(2048).prefetch(16).cache()\n",
        "\n",
        "train_ds = make_dataset(train_pairs)\n",
        "val_ds = make_dataset(val_pairs)"
      ]
    },
    {
      "cell_type": "code",
      "execution_count": 125,
      "metadata": {
        "id": "Ptr32zceQLUx"
      },
      "outputs": [
        {
          "name": "stdout",
          "output_type": "stream",
          "text": [
            "inputs['english'].shape: (32, 20)\n",
            "inputs['portuguese'].shape: (32, 20)\n",
            "targets.shape: (32, 20)\n"
          ]
        }
      ],
      "source": [
        "for inputs, targets in train_ds.take(1):\n",
        "    print(f\"inputs['english'].shape: {inputs['english'].shape}\")\n",
        "    print(f\"inputs['portuguese'].shape: {inputs['portuguese'].shape}\")\n",
        "    print(f\"targets.shape: {targets.shape}\")\n",
        "    #print(inputs['english'])\n"
      ]
    },
    {
      "cell_type": "code",
      "execution_count": 126,
      "metadata": {
        "id": "7r7M3lbPTCYx"
      },
      "outputs": [],
      "source": [
        "# Criação da classe que modela o Encoder \n",
        "\n",
        "# Na criação do objeto recebe \n",
        "# embed_dim: Dimensão da sequência de input \n",
        "# dense_dim: Número de nós da camada Dense\n",
        "# num_heads: Número de attention heads\n",
        "\n",
        "class TransformerEncoder(layers.Layer):\n",
        "    def __init__(self, embed_dim, dense_dim, num_heads, dense_proj_sequential ,**kwargs):\n",
        "\n",
        "        super().__init__(**kwargs)\n",
        "        \n",
        "        self.embed_dim = embed_dim\n",
        "        \n",
        "        self.dense_dim = dense_dim\n",
        "        \n",
        "        self.num_heads = num_heads\n",
        "        \n",
        "        self.attention = layers.MultiHeadAttention(num_heads=num_heads, key_dim=embed_dim)\n",
        "\n",
        "        #self.dense_proj = keras.Sequential([layers.Dense(dense_dim, activation=\"relu\"), layers.Dense(embed_dim),])\n",
        "        self.dense_proj = keras.Sequential(dense_proj_sequential)\n",
        "        \n",
        "        self.layernorm_1 = layers.LayerNormalization()\n",
        "        \n",
        "        self.layernorm_2 = layers.LayerNormalization()\n",
        "\n",
        "    def call(self, inputs, mask=None):\n",
        "        \n",
        "        if mask is not None:\n",
        "            mask = mask[:, tf.newaxis, :]\n",
        "        \n",
        "        attention_output = self.attention(inputs, inputs, attention_mask=mask)\n",
        "\n",
        "        proj_input = self.layernorm_1(inputs + attention_output)\n",
        "        \n",
        "        proj_output = self.dense_proj(proj_input)\n",
        "        \n",
        "        return self.layernorm_2(proj_input + proj_output)\n",
        "\n",
        "    def get_config(self):\n",
        "        config = super().get_config()\n",
        "        \n",
        "        config.update({\n",
        "            \"embed_dim\": self.embed_dim,\n",
        "            \"num_heads\": self.num_heads,\n",
        "            \"dense_dim\": self.dense_dim,\n",
        "        })\n",
        "        \n",
        "        return config"
      ]
    },
    {
      "cell_type": "code",
      "execution_count": 127,
      "metadata": {
        "id": "1jFFDfMoQdER"
      },
      "outputs": [],
      "source": [
        "# Criação da classe que modela o Decoder \n",
        "\n",
        "# Na criação do objeto recebe \n",
        "# embed_dim: Dimensão da sequência de input \n",
        "# dense_dim: Número de nós da camada Dense\n",
        "# num_heads: Número de attention heads\n",
        "\n",
        "class TransformerDecoder(layers.Layer):\n",
        "    def __init__(self, embed_dim, dense_dim, num_heads, dense_proj_sequential, **kwargs):\n",
        "        \n",
        "        super().__init__(**kwargs)\n",
        "        \n",
        "        self.embed_dim = embed_dim\n",
        "        \n",
        "        self.dense_dim = dense_dim\n",
        "        \n",
        "        self.num_heads = num_heads\n",
        "        \n",
        "        self.attention_1 = layers.MultiHeadAttention(num_heads=num_heads, key_dim=embed_dim)\n",
        "        \n",
        "        self.attention_2 = layers.MultiHeadAttention(num_heads=num_heads, key_dim=embed_dim)\n",
        "\n",
        "        #self.dense_proj = keras.Sequential([layers.Dense(dense_dim, activation=\"relu\"), layers.Dense(embed_dim),])\n",
        "        self.dense_proj = keras.Sequential(dense_proj_sequential)\n",
        "        \n",
        "        self.layernorm_1 = layers.LayerNormalization()\n",
        "        \n",
        "        self.layernorm_2 = layers.LayerNormalization()\n",
        "        \n",
        "        self.layernorm_3 = layers.LayerNormalization()\n",
        "        \n",
        "        self.supports_masking = True\n",
        "\n",
        "    def get_config(self):\n",
        "        config = super().get_config()\n",
        "        \n",
        "        config.update({\n",
        "            \"embed_dim\": self.embed_dim,\n",
        "            \"num_heads\": self.num_heads,\n",
        "            \"dense_dim\": self.dense_dim,\n",
        "        })\n",
        "        \n",
        "        return config\n",
        "\n",
        "    def get_causal_attention_mask(self, inputs):\n",
        "        \n",
        "        input_shape = tf.shape(inputs)\n",
        "        \n",
        "        batch_size, sequence_length = input_shape[0], input_shape[1]\n",
        "        \n",
        "        i = tf.range(sequence_length)[:, tf.newaxis]\n",
        "        \n",
        "        j = tf.range(sequence_length)\n",
        "        \n",
        "        mask = tf.cast(i >= j, dtype=\"int32\")\n",
        "        \n",
        "        mask = tf.reshape(mask, (1, input_shape[1], input_shape[1]))\n",
        "        \n",
        "        mult = tf.concat([tf.expand_dims(batch_size, -1), tf.constant([1, 1], dtype=tf.int32)], axis=0)\n",
        "        \n",
        "        return tf.tile(mask, mult)\n",
        "\n",
        "    def call(self, inputs, encoder_outputs, mask=None):\n",
        "        \n",
        "        causal_mask = self.get_causal_attention_mask(inputs)\n",
        "        \n",
        "        if mask is not None:\n",
        "            padding_mask = tf.cast(mask[:, tf.newaxis, :], dtype=\"int32\")\n",
        "            padding_mask = tf.minimum(padding_mask, causal_mask)\n",
        "        \n",
        "        attention_output_1 = self.attention_1(\n",
        "            query=inputs,\n",
        "            value=inputs,\n",
        "            key=inputs,\n",
        "            attention_mask=causal_mask)\n",
        "        \n",
        "        attention_output_1 = self.layernorm_1(inputs + attention_output_1)\n",
        "        \n",
        "        attention_output_2 = self.attention_2(\n",
        "            query=attention_output_1,\n",
        "            value=encoder_outputs,\n",
        "            key=encoder_outputs,\n",
        "            attention_mask=padding_mask)\n",
        "        \n",
        "        attention_output_2 = self.layernorm_2(attention_output_1 + attention_output_2)\n",
        "\n",
        "        proj_output = self.dense_proj(attention_output_2)\n",
        "        \n",
        "        return self.layernorm_3(attention_output_2 + proj_output)"
      ]
    },
    {
      "cell_type": "code",
      "execution_count": 128,
      "metadata": {
        "id": "4jfXOf3nTMOl"
      },
      "outputs": [],
      "source": [
        "class PositionalEmbedding(layers.Layer):\n",
        "    def __init__(self, sequence_length, input_dim, output_dim, wordEmbedding=None, **kwargs):\n",
        "        super().__init__(**kwargs)\n",
        "\n",
        "        if( wordEmbedding is not None ):\n",
        "            self.token_embeddings = wordEmbedding\n",
        "        else:\n",
        "            self.token_embeddings = layers.Embedding(input_dim=input_dim, output_dim=output_dim)\n",
        "        \n",
        "        self.position_embeddings = layers.Embedding(\n",
        "            input_dim=sequence_length, output_dim=output_dim)\n",
        "        \n",
        "        self.sequence_length = sequence_length\n",
        "        \n",
        "        self.input_dim = input_dim\n",
        "        \n",
        "        self.output_dim = output_dim\n",
        "\n",
        "    def call(self, inputs):\n",
        "        \n",
        "        length = tf.shape(inputs)[-1]\n",
        "        \n",
        "        positions = tf.range(start=0, limit=length, delta=1)\n",
        "        \n",
        "        embedded_tokens = self.token_embeddings(inputs)\n",
        "        \n",
        "        embedded_positions = self.position_embeddings(positions)\n",
        "        \n",
        "        return embedded_tokens + embedded_positions\n",
        "\n",
        "    def compute_mask(self, inputs, mask=None):\n",
        "        return tf.math.not_equal(inputs, 0)\n",
        "\n",
        "    def get_config(self):\n",
        "        config = super(PositionalEmbedding, self).get_config()\n",
        "\n",
        "        config.update({\n",
        "            \"output_dim\": self.output_dim,\n",
        "            \"sequence_length\": self.sequence_length,\n",
        "            \"input_dim\": self.input_dim,\n",
        "        })\n",
        "\n",
        "        return config"
      ]
    },
    {
      "cell_type": "code",
      "execution_count": 129,
      "metadata": {
        "id": "JW_VGzs1TPcZ"
      },
      "outputs": [],
      "source": [
        "# The complete Transformer\n",
        "\n",
        "import keras\n",
        "from keras.layers import Dense, BatchNormalization, Dropout, LayerNormalization\n",
        "# Settings  \n",
        "#embed_dim = 256\n",
        "embed_dim = 50\n",
        "dense_dim = 2048\n",
        "num_heads = 6\n",
        "\n",
        "encoder_inputs = keras.Input(shape=(None,), dtype=\"int64\", name=\"english\")\n",
        "x = PositionalEmbedding(sequence_length, vocab_size, embed_dim, en_embedding_layer)(encoder_inputs)\n",
        "encoder_outputs = TransformerEncoder(\n",
        "    embed_dim,\n",
        "    dense_dim,\n",
        "    num_heads,\n",
        "    [\n",
        "        Dense(2048, activation=\"relu\"), \n",
        "        BatchNormalization(),\n",
        "        Dense(2048, activation=\"relu\"), \n",
        "        BatchNormalization(),\n",
        "        Dense(2048, activation=\"relu\"), \n",
        "        BatchNormalization(),\n",
        "        Dense(embed_dim, activation=\"relu\"),\n",
        "        BatchNormalization()\n",
        "    ])(x)\n",
        "\n",
        "decoder_inputs = keras.Input(shape=(None,), dtype=\"int64\", name=\"portuguese\")\n",
        "x = PositionalEmbedding(sequence_length, vocab_size, embed_dim)(decoder_inputs)\n",
        "x = TransformerDecoder(\n",
        "    embed_dim,\n",
        "    dense_dim,\n",
        "    num_heads,\n",
        "    [\n",
        "        Dense(2048, activation=\"relu\"), \n",
        "        BatchNormalization(),\n",
        "        Dense(2048, activation=\"relu\"), \n",
        "        BatchNormalization(),\n",
        "        Dense(2048, activation=\"relu\"), \n",
        "        BatchNormalization(),\n",
        "        Dense(embed_dim, activation=\"relu\"), \n",
        "        BatchNormalization()\n",
        "    ])(x, encoder_outputs)\n",
        "x = Dropout(0.70)(x)  \n",
        "decoder_outputs = layers.Dense(vocab_size, activation=\"softmax\")(x)\n",
        "\n",
        "transformer = keras.Model([encoder_inputs, decoder_inputs], decoder_outputs)"
      ]
    },
    {
      "cell_type": "code",
      "execution_count": 130,
      "metadata": {},
      "outputs": [],
      "source": [
        "keras.backend.clear_session()\n",
        "best_model_file_path = \"best_translator.tfmodel\"\n",
        "callbacks_list = [\n",
        "    tf.keras.callbacks.EarlyStopping(\n",
        "        monitor='val_accuracy', \n",
        "        patience = 10, \n",
        "        min_delta = 0.005, \n",
        "        restore_best_weights = True,\n",
        "        mode='auto'\n",
        "    ),\n",
        "    keras.callbacks.ModelCheckpoint(\n",
        "        filepath = best_model_file_path,\n",
        "        monitor = \"val_accuracy\",\n",
        "        verbose=0,\n",
        "        save_best_only = True,\n",
        "        save_weights_only = False,\n",
        "        mode='max'\n",
        "    )\n",
        "]"
      ]
    },
    {
      "cell_type": "code",
      "execution_count": 131,
      "metadata": {},
      "outputs": [],
      "source": [
        "transformer.compile(\n",
        "    optimizer=\"rmsprop\",\n",
        "    loss=\"sparse_categorical_crossentropy\",\n",
        "    metrics=[\"accuracy\"])"
      ]
    },
    {
      "cell_type": "code",
      "execution_count": 136,
      "metadata": {
        "id": "FdhUT_gqTX8w"
      },
      "outputs": [
        {
          "name": "stdout",
          "output_type": "stream",
          "text": [
            "Epoch 1/25\n",
            "2201/2201 [==============================] - 128s 58ms/step - loss: 2.7485 - accuracy: 0.4535 - val_loss: 2.9035 - val_accuracy: 0.4112\n",
            "Epoch 2/25\n",
            "2201/2201 [==============================] - 123s 56ms/step - loss: 2.7328 - accuracy: 0.4572 - val_loss: 2.9203 - val_accuracy: 0.4042\n",
            "Epoch 3/25\n",
            "2201/2201 [==============================] - ETA: 0s - loss: 2.7187 - accuracy: 0.4610"
          ]
        },
        {
          "name": "stderr",
          "output_type": "stream",
          "text": [
            "WARNING:absl:Found untraced functions such as embedding_layer_call_fn, embedding_layer_call_and_return_conditional_losses, embedding_1_layer_call_fn, embedding_1_layer_call_and_return_conditional_losses, embedding_2_layer_call_fn while saving (showing 5 of 60). These functions will not be directly callable after loading.\n"
          ]
        },
        {
          "name": "stdout",
          "output_type": "stream",
          "text": [
            "INFO:tensorflow:Assets written to: best_translator.tfmodel\\assets\n"
          ]
        },
        {
          "name": "stderr",
          "output_type": "stream",
          "text": [
            "INFO:tensorflow:Assets written to: best_translator.tfmodel\\assets\n"
          ]
        },
        {
          "name": "stdout",
          "output_type": "stream",
          "text": [
            "2201/2201 [==============================] - 129s 59ms/step - loss: 2.7187 - accuracy: 0.4610 - val_loss: 2.8997 - val_accuracy: 0.4170\n",
            "Epoch 4/25\n",
            "2201/2201 [==============================] - 117s 53ms/step - loss: 2.7051 - accuracy: 0.4642 - val_loss: 2.9081 - val_accuracy: 0.4132\n",
            "Epoch 5/25\n",
            "2201/2201 [==============================] - 116s 53ms/step - loss: 2.6906 - accuracy: 0.4673 - val_loss: 2.8842 - val_accuracy: 0.4151\n",
            "Epoch 6/25\n",
            "2201/2201 [==============================] - 116s 53ms/step - loss: 2.6793 - accuracy: 0.4698 - val_loss: 2.9474 - val_accuracy: 0.4104\n",
            "Epoch 7/25\n",
            "2201/2201 [==============================] - 116s 53ms/step - loss: 2.6668 - accuracy: 0.4729 - val_loss: 2.9281 - val_accuracy: 0.4121\n",
            "Epoch 8/25\n",
            "2200/2201 [============================>.] - ETA: 0s - loss: 2.6546 - accuracy: 0.4758"
          ]
        },
        {
          "name": "stderr",
          "output_type": "stream",
          "text": [
            "WARNING:absl:Found untraced functions such as embedding_layer_call_fn, embedding_layer_call_and_return_conditional_losses, embedding_1_layer_call_fn, embedding_1_layer_call_and_return_conditional_losses, embedding_2_layer_call_fn while saving (showing 5 of 60). These functions will not be directly callable after loading.\n"
          ]
        },
        {
          "name": "stdout",
          "output_type": "stream",
          "text": [
            "INFO:tensorflow:Assets written to: best_translator.tfmodel\\assets\n"
          ]
        },
        {
          "name": "stderr",
          "output_type": "stream",
          "text": [
            "INFO:tensorflow:Assets written to: best_translator.tfmodel\\assets\n"
          ]
        },
        {
          "name": "stdout",
          "output_type": "stream",
          "text": [
            "2201/2201 [==============================] - 127s 58ms/step - loss: 2.6546 - accuracy: 0.4758 - val_loss: 2.9230 - val_accuracy: 0.4173\n",
            "Epoch 9/25\n",
            "2201/2201 [==============================] - 117s 53ms/step - loss: 2.6419 - accuracy: 0.4790 - val_loss: 2.9418 - val_accuracy: 0.4080\n",
            "Epoch 10/25\n",
            "2201/2201 [==============================] - 116s 53ms/step - loss: 2.6325 - accuracy: 0.4808 - val_loss: 2.9379 - val_accuracy: 0.4140\n",
            "Epoch 11/25\n",
            "2201/2201 [==============================] - 115s 52ms/step - loss: 2.6204 - accuracy: 0.4837 - val_loss: 2.9432 - val_accuracy: 0.4164\n",
            "Epoch 12/25\n",
            "2200/2201 [============================>.] - ETA: 0s - loss: 2.6105 - accuracy: 0.4858"
          ]
        },
        {
          "name": "stderr",
          "output_type": "stream",
          "text": [
            "WARNING:absl:Found untraced functions such as embedding_layer_call_fn, embedding_layer_call_and_return_conditional_losses, embedding_1_layer_call_fn, embedding_1_layer_call_and_return_conditional_losses, embedding_2_layer_call_fn while saving (showing 5 of 60). These functions will not be directly callable after loading.\n"
          ]
        },
        {
          "name": "stdout",
          "output_type": "stream",
          "text": [
            "INFO:tensorflow:Assets written to: best_translator.tfmodel\\assets\n"
          ]
        },
        {
          "name": "stderr",
          "output_type": "stream",
          "text": [
            "INFO:tensorflow:Assets written to: best_translator.tfmodel\\assets\n"
          ]
        },
        {
          "name": "stdout",
          "output_type": "stream",
          "text": [
            "2201/2201 [==============================] - 123s 56ms/step - loss: 2.6104 - accuracy: 0.4858 - val_loss: 2.9633 - val_accuracy: 0.4182\n",
            "Epoch 13/25\n",
            "2201/2201 [==============================] - ETA: 0s - loss: 2.6032 - accuracy: 0.4886"
          ]
        },
        {
          "name": "stderr",
          "output_type": "stream",
          "text": [
            "WARNING:absl:Found untraced functions such as embedding_layer_call_fn, embedding_layer_call_and_return_conditional_losses, embedding_1_layer_call_fn, embedding_1_layer_call_and_return_conditional_losses, embedding_2_layer_call_fn while saving (showing 5 of 60). These functions will not be directly callable after loading.\n"
          ]
        },
        {
          "name": "stdout",
          "output_type": "stream",
          "text": [
            "INFO:tensorflow:Assets written to: best_translator.tfmodel\\assets\n"
          ]
        },
        {
          "name": "stderr",
          "output_type": "stream",
          "text": [
            "INFO:tensorflow:Assets written to: best_translator.tfmodel\\assets\n"
          ]
        },
        {
          "name": "stdout",
          "output_type": "stream",
          "text": [
            "2201/2201 [==============================] - 128s 58ms/step - loss: 2.6032 - accuracy: 0.4886 - val_loss: 2.9571 - val_accuracy: 0.4205\n"
          ]
        }
      ],
      "source": [
        "history = transformer.fit(\n",
        "    train_ds,\n",
        "    epochs=25,\n",
        "    validation_data=val_ds,\n",
        "    callbacks=callbacks_list)"
      ]
    },
    {
      "cell_type": "code",
      "execution_count": 137,
      "metadata": {},
      "outputs": [
        {
          "data": {
            "text/plain": [
              "<AxesSubplot:>"
            ]
          },
          "execution_count": 137,
          "metadata": {},
          "output_type": "execute_result"
        },
        {
          "data": {
            "image/png": "[encoded data removed]",
            "text/plain": [
              "<Figure size 432x288 with 1 Axes>"
            ]
          },
          "metadata": {
            "needs_background": "light"
          },
          "output_type": "display_data"
        },
        {
          "data": {
            "image/png": "[encoded data removed]",
            "text/plain": [
              "<Figure size 432x288 with 1 Axes>"
            ]
          },
          "metadata": {
            "needs_background": "light"
          },
          "output_type": "display_data"
        }
      ],
      "source": [
        "import pandas as pd \n",
        "history_frame =pd.DataFrame(history.history)\n",
        "history_frame.loc[:, ['loss', 'val_loss']].plot()\n",
        "history_frame.loc[:, ['accuracy', 'val_accuracy']].plot()"
      ]
    },
    {
      "cell_type": "code",
      "execution_count": 134,
      "metadata": {
        "id": "_h6nkceEYpUH"
      },
      "outputs": [
        {
          "name": "stdout",
          "output_type": "stream",
          "text": [
            "-\n",
            "4a = 0.000000000000000004\n",
            "[start] [UNK] [UNK] [end]\n",
            "-\n",
            "click dashboard properties to change the title, folder, running user, and more.\n",
            "[start] klicken sie auf [UNK] ändern um den [UNK] und die [UNK] zu ändern [end]\n",
            "-\n",
            "your administrator correlates the values in this picklist with forecast category values that determine how the opportunity contributes to your forecast.\n",
            "[start] die [UNK] ihrer organisation in dieser [UNK] werden mit der [UNK] [UNK] angezeigt die die der community die [UNK] für\n",
            "-\n",
            "name of the approval step.\n",
            "[start] name des [UNK] [end]\n",
            "-\n",
            "to map engagement insights in community management or community workspaces:\n",
            "[start] [UNK] in der [UNK] oder der [UNK] [end]\n",
            "-\n",
            "ensure that the edit date standard filter is set to current fq.\n",
            "[start] legen sie das [UNK] fest die [UNK] wird auf [UNK] [UNK] [UNK] [end]\n",
            "-\n",
            "the opportunity amount field and each overlay sales team member's split percentage. for overlay splits - revenue forecasts, the split percentages don't need to total 100%. to use overlay splits forecasts, enable opportunity teams, opportunity splits, and the overlay split type.\n",
            "[start] das feld [UNK] und die [UNK] [UNK] für die [UNK] für [UNK] [UNK] [UNK] [UNK] [UNK] [UNK] und [UNK] [end]\n",
            "-\n",
            "under administrative permissions, select field service standard.\n",
            "[start] wählen sie unter [UNK] die option [UNK] aus [end]\n",
            "-\n",
            "#url1# perform\n",
            "[start] url1 [UNK] [end]\n",
            "-\n",
            "products and price books available in: both salesforce classic and lightning experience\n",
            "[start] [UNK] und [UNK] in salesforce classic und lightning experience [end]\n",
            "-\n",
            "salesforce recommends that you test a small file first to make sure that you've prepared your source data correctly.\n",
            "[start] salesforce die sie mit einer die [UNK] [UNK] [UNK] müssen sie die ihrer email erstellen wenn sie ihre [UNK] auf\n",
            "-\n",
            "the similar questions and similar articles search features are also available in communities built on the customer service (napili) template. for more information, see display similar questions and articles in the customer service (napili) template search.\n",
            "[start] die [UNK] und die [UNK] werden in communities verfügbar sind in den [UNK] mit den [UNK] [UNK] [UNK] [UNK] und\n",
            "-\n",
            "compare two picklists\n",
            "[start] [UNK] [UNK] [end]\n",
            "-\n",
            "i see an error when i select a custom create account action from a person account.\n",
            "[start] [UNK] in einer [UNK] wenn ein benutzer ein [UNK] erstellen [UNK] als eine benutzerdefinierte [UNK] auswählen [end]\n",
            "-\n",
            "add reports to the mobile reports folder. click the report name on the reports home page, then click save as and save the report in the mobile reports folder.\n",
            "[start] hinzufügen berichte zum klicken des [UNK] auf den namen des [UNK] auf der seite [UNK] und klicken sie dann auf\n",
            "-\n",
            "if you also attached a troubleshooting video (a 2.5 mb file), all three of the attachments would appear to the customer as links, as the total size of all attachments would be greater than 3mb.\n",
            "[start] wenn sie die [UNK] [UNK] [UNK] für eine [UNK] [UNK] [UNK] werden die die die die [UNK] angezeigt werden die\n",
            "-\n",
            "trust notifications\n",
            "[start] [UNK] [end]\n",
            "-\n",
            "alert banners\n",
            "[start] [UNK] [end]\n",
            "-\n",
            "click the service contract name.\n",
            "[start] klicken sie auf den [UNK] [end]\n",
            "-\n",
            "the sidebar that lists data categories from which your customers can browse questions and replies. for example, if you have a zone for hardware products, your topics may include laptops, desktops, and printers.\n",
            "[start] die [UNK] die über die [UNK] die ihrer kunden auf die [UNK] [UNK] [UNK] und [UNK] ist wenn sie beispielsweise\n"
          ]
        }
      ],
      "source": [
        "# Testar o desempenho do Transformer em frases do conjunto de teste\n",
        "\n",
        "\n",
        "pt_vocab = target_vectorization.get_vocabulary()\n",
        "pt_index_lookup = dict(zip(range(len(pt_vocab)), pt_vocab))\n",
        "max_decoded_sentence_length = 20\n",
        "\n",
        "def decode_sequence(input_sentence):\n",
        "   \n",
        "    tokenized_input_sentence = source_vectorization([input_sentence])\n",
        "   \n",
        "    decoded_sentence = \"[start]\"\n",
        "   \n",
        "    for i in range(max_decoded_sentence_length):\n",
        "        tokenized_target_sentence = target_vectorization([decoded_sentence])[:, :-1]\n",
        "        \n",
        "        predictions = transformer([tokenized_input_sentence, tokenized_target_sentence])\n",
        "\n",
        "        sampled_token_index = np.argmax(predictions[0, i, :])\n",
        "        \n",
        "        sampled_token = pt_index_lookup[sampled_token_index]\n",
        "        \n",
        "        decoded_sentence += \" \" + sampled_token\n",
        "        \n",
        "        if sampled_token == \"[end]\":\n",
        "            break\n",
        "    \n",
        "    return decoded_sentence\n",
        "\n",
        "test_eng_texts = [pair[0] for pair in test_pairs]\n",
        "\n",
        "for _ in range(20):\n",
        "    input_sentence = random.choice(test_eng_texts)\n",
        "    print(\"-\")\n",
        "    print(input_sentence)\n",
        "    print(decode_sequence(input_sentence))"
      ]
    },
    {
      "cell_type": "code",
      "execution_count": 135,
      "metadata": {
        "id": "UONQEruoZIyh"
      },
      "outputs": [
        {
          "name": "stdout",
          "output_type": "stream",
          "text": [
            "-\n",
            "\n",
            "[start] [end] \n",
            "\n",
            "-\n",
            "\n",
            "[start] [end] \n",
            "\n",
            "-\n",
            "\n",
            "[start] [end] \n",
            "\n",
            "-\n",
            "\n",
            "[start] [end] \n",
            "\n",
            "-\n",
            "\n",
            "[start] [end] \n",
            "\n"
          ]
        }
      ],
      "source": [
        "for _ in range(5):\n",
        "    input_sentence = input()\n",
        "    print(\"-\")\n",
        "    print(input_sentence)\n",
        "    print(decode_sequence(input_sentence), '\\n')"
      ]
    }
  ],
  "metadata": {
    "accelerator": "GPU",
    "colab": {
      "collapsed_sections": [],
      "name": "AD2122_Aula9_Transformer_ENG-PT.ipynb",
      "provenance": []
    },
    "kernelspec": {
      "display_name": "Python 3.8.13 ('tfgpu-clone')",
      "language": "python",
      "name": "python3"
    },
    "language_info": {
      "codemirror_mode": {
        "name": "ipython",
        "version": 3
      },
      "file_extension": ".py",
      "mimetype": "text/x-python",
      "name": "python",
      "nbconvert_exporter": "python",
      "pygments_lexer": "ipython3",
      "version": "3.8.13"
    },
    "vscode": {
      "interpreter": {
        "hash": "9517802f9e486875bd1a90cb9316150f9c80975204a62a359dc8ac0c901cd1ea"
      }
    }
  },
  "nbformat": 4,
  "nbformat_minor": 0
}
